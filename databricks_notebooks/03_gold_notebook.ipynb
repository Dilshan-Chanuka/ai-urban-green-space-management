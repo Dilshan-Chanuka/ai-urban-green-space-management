{
 "cells": [
  {
   "cell_type": "code",
   "execution_count": 0,
   "metadata": {
    "application/vnd.databricks.v1+cell": {
     "cellMetadata": {
      "byteLimit": 2048000,
      "rowLimit": 10000
     },
     "inputWidgets": {},
     "nuid": "e161c243-ff70-4c06-bd96-f20f601b4082",
     "showTitle": false,
     "tableResultSettingsMap": {},
     "title": ""
    }
   },
   "outputs": [],
   "source": [
    "import pandas as pd\n",
    "import matplotlib.pyplot as plt\n",
    "import seaborn as sns\n",
    "\n",
    "# Load the data\n",
    "df_spark = spark.read.table(\"ml_project.gold.urban_green_space_predictions\")\n",
    "df = df_spark.toPandas()\n",
    "# Remove 'Nationalpark' from the park names\n",
    "df['park_name'] = df['park_name'].str.replace('Nationalpark ', '')\n",
    "\n",
    "# Create a figure with multiple subplots\n",
    "fig, axs = plt.subplots(2, 2, figsize=(15, 10))\n",
    "\n",
    "# Plot 1: City-wise Park Count\n",
    "city_intervention_counts = df['city'].value_counts()\n",
    "sns.countplot(x='city', data=df, ax=axs[0, 0])\n",
    "axs[0, 0].set_title('City-wise Park Count')\n",
    "axs[0, 0].tick_params(axis='x', rotation=45)\n",
    "\n",
    "# Plot 2: Intervention Probabilities\n",
    "sns.scatterplot(x='park_name', y='intervention_probability', hue='intervention_pred', data=df, ax=axs[0, 1])\n",
    "axs[0, 1].set_title('Intervention Probabilities')\n",
    "axs[0, 1].tick_params(axis='x', rotation=90)\n",
    "\n",
    "# Plot 3: Intervention Status\n",
    "sns.countplot(x='intervention_pred', data=df, ax=axs[1, 0])\n",
    "axs[1, 0].set_title('Intervention Status')\n",
    "\n",
    "# Plot 4: City-wise Intervention Status\n",
    "city_intervention_status = df.groupby('city')['intervention_pred'].sum().reset_index()\n",
    "sns.barplot(x='city', y='intervention_pred', data=city_intervention_status, ax=axs[1, 1])\n",
    "axs[1, 1].set_title('City-wise Intervention Status')\n",
    "axs[1, 1].tick_params(axis='x', rotation=45)\n",
    "\n",
    "# Layout so plots do not overlap\n",
    "fig.tight_layout()\n",
    "\n",
    "plt.show()"
   ]
  },
  {
   "cell_type": "code",
   "execution_count": 0,
   "metadata": {
    "application/vnd.databricks.v1+cell": {
     "cellMetadata": {
      "byteLimit": 2048000,
      "rowLimit": 10000
     },
     "inputWidgets": {},
     "nuid": "2bcfdfc4-6796-4cf7-817b-8f92c625a4a6",
     "showTitle": false,
     "tableResultSettingsMap": {
      "0": {
       "dataGridStateBlob": "{\"version\":1,\"tableState\":{\"columnPinning\":{\"left\":[\"#row_number#\"],\"right\":[]},\"columnSizing\":{},\"columnVisibility\":{}},\"settings\":{\"columns\":{}},\"syncTimestamp\":1753880643802}",
       "filterBlob": null,
       "queryPlanFiltersBlob": null,
       "tableResultIndex": 0
      }
     },
     "title": ""
    }
   },
   "outputs": [],
   "source": [
    "from pyspark.sql.functions import udf\n",
    "from pyspark.sql.types import StringType\n",
    "\n",
    "# Improved and research-aware logic\n",
    "def generate_recommendation(prob, city):\n",
    "    if prob > 0.9:\n",
    "        if city in ['Hamburg', 'Berlin']:\n",
    "            return \"High urgency: Increase tree canopy, launch public awareness events, and improve waste management\"\n",
    "        else:\n",
    "            return \"High urgency: Apply a balanced intervention strategy\"\n",
    "    elif prob > 0.7:\n",
    "        return \"Moderate concern: Promote eco-tourism and introduce park ranger programs\"\n",
    "    elif prob > 0.4:\n",
    "        return \"Low risk: Monitor visitor impact and schedule seasonal clean-up drives\"\n",
    "    else:\n",
    "        return \"No immediate action needed: Maintain regular observation and reporting\"\n",
    "\n",
    "# Register and apply the UDF\n",
    "udf_generate_recommendation = udf(generate_recommendation, StringType())\n",
    "df = df_spark.withColumn('recommendation', udf_generate_recommendation('intervention_probability', 'city'))\n",
    "display(df)"
   ]
  },
  {
   "cell_type": "code",
   "execution_count": 0,
   "metadata": {
    "application/vnd.databricks.v1+cell": {
     "cellMetadata": {
      "byteLimit": 2048000,
      "rowLimit": 10000
     },
     "inputWidgets": {},
     "nuid": "90774eb7-4265-453c-8197-d9a4f48900b7",
     "showTitle": false,
     "tableResultSettingsMap": {},
     "title": ""
    }
   },
   "outputs": [],
   "source": [
    "import seaborn as sns\n",
    "import matplotlib.pyplot as plt\n",
    "import pandas as pd\n",
    "import numpy as np\n",
    "from matplotlib.font_manager import FontProperties # Import FontProperties\n",
    "\n",
    "# Convert the Spark DataFrame to a Pandas DataFrame\n",
    "df_pd = df.toPandas()\n",
    "# Remove 'Nationalpark' from the park names\n",
    "df_pd['park_name'] = df_pd['park_name'].str.replace('Nationalpark ', '')\n",
    "\n",
    "# Create a scatter plot\n",
    "plt.figure(figsize=(12, 8))\n",
    "sns.stripplot(x='intervention_probability', y='park_name', hue='recommendation', data=df_pd, jitter=True, size=10)\n",
    "\n",
    "# Add grid lines\n",
    "for i in np.arange(0, 1.1, 0.1):\n",
    "    plt.axvline(i, linestyle=':', alpha=0.2, color='gray')\n",
    "\n",
    "# Add horizontal grid lines\n",
    "for i in range(len(df_pd['park_name'].unique())):\n",
    "    plt.axhline(i, linestyle=':', alpha=0.2, color='gray')\n",
    "\n",
    "plt.title('Intervention Probability by Park')\n",
    "plt.xlabel('Intervention Probability') \n",
    "plt.ylabel('Park Name') \n",
    "font_properties = FontProperties(weight='bold')\n",
    "\n",
    "# Move the legend below the chart\n",
    "plt.legend(bbox_to_anchor=(0.5, -0.25), loc='upper center', ncol=2) \n",
    "plt.tight_layout()\n",
    "plt.show()"
   ]
  }
 ],
 "metadata": {
  "application/vnd.databricks.v1+notebook": {
   "computePreferences": null,
   "dashboards": [],
   "environmentMetadata": {
    "base_environment": "",
    "environment_version": "2"
   },
   "inputWidgetPreferences": null,
   "language": "python",
   "notebookMetadata": {
    "pythonIndentUnit": 4
   },
   "notebookName": "03_gold_notebook",
   "widgets": {}
  },
  "language_info": {
   "name": "python"
  }
 },
 "nbformat": 4,
 "nbformat_minor": 0
}
